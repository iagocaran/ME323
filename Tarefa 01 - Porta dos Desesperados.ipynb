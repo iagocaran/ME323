{
 "cells": [
  {
   "cell_type": "markdown",
   "metadata": {},
   "source": [
    "Iago Caran Aquino - 198921\n",
    "\n",
    "Olá, estou tentando escrever texto dentro do Jupiter.\n",
    "Abaixo está um código básico de como fazemos uma simulação."
   ]
  },
  {
   "cell_type": "code",
   "execution_count": 48,
   "metadata": {},
   "outputs": [
    {
     "name": "stdout",
     "output_type": "stream",
     "text": [
      "Portas: [0, 1, 0]\n",
      "Porta com prêmio: 1\n",
      "Porta escolhida: 1\n",
      "Porta descartada: 0\n",
      "Não trocou\n",
      "Ganhou\n"
     ]
    }
   ],
   "source": [
    "%matplotlib inline\n",
    "from pylab import *\n",
    "import numpy as np\n",
    "import random\n",
    "\n",
    "# Ao longo do programa seguimos algumas convenções:\n",
    "#  - 0 : nenhum prêmio\n",
    "#  - 1 : prêmio\n",
    "\n",
    "# Trocar de porta?\n",
    "troca = False\n",
    "\n",
    "# Colocar o prêmio atrás de uma porta\n",
    "doors = [0, 0, 0]\n",
    "prize = random.randint(0, 2)\n",
    "doors[prize] = 1\n",
    "\n",
    "print('Portas:', doors)\n",
    "print('Porta com prêmio:', prize)\n",
    "\n",
    "# Escolher uma porta\n",
    "chosen = random.randint(0, 2)\n",
    "discarded = None\n",
    "print('Porta escolhida:', chosen)\n",
    "\n",
    "# Abrir uma porta\n",
    "for i in range(0, 3):\n",
    "    if doors[i] == 0 and i != chosen:\n",
    "        discarded = i\n",
    "        break\n",
    "\n",
    "print('Porta descartada:', discarded)\n",
    "        \n",
    "# Trocar de porta\n",
    "if troca:\n",
    "    print('Trocou')\n",
    "    for i in range(0, 3):\n",
    "        if i not in [chosen, discarded]:\n",
    "            chosen = i\n",
    "            break\n",
    "else:\n",
    "    print('Não trocou')\n",
    "\n",
    "# Resultado\n",
    "print('Ganhou' if doors[chosen] == 1 else 'Perdeu')"
   ]
  },
  {
   "cell_type": "markdown",
   "metadata": {},
   "source": [
    "Transformando em uma função, podemos repetir isso várias vezes."
   ]
  },
  {
   "cell_type": "code",
   "execution_count": 49,
   "metadata": {},
   "outputs": [],
   "source": [
    "def simula(troca = False):\n",
    "    doors = [0, 0, 0]\n",
    "    doors[random.randint(0, 2)] = 1\n",
    "    chosen = random.randint(0, 2)\n",
    "    discarded = None\n",
    "\n",
    "    for i in range(0, 3):\n",
    "        if doors[i] == 0 and i != chosen:\n",
    "            discarded = i\n",
    "            break\n",
    "    if troca:\n",
    "        for i in range(0, 3):\n",
    "            if i not in [chosen, discarded]:\n",
    "                chosen = i\n",
    "                break\n",
    "    return doors[chosen] == 1"
   ]
  },
  {
   "cell_type": "markdown",
   "metadata": {},
   "source": [
    "Executando essa função, podemos fazer o teste para troca ou não:"
   ]
  },
  {
   "cell_type": "code",
   "execution_count": 50,
   "metadata": {},
   "outputs": [
    {
     "name": "stdout",
     "output_type": "stream",
     "text": [
      "Trocando: Perdeu\n",
      "Sem trocar: Ganhou\n"
     ]
    }
   ],
   "source": [
    "print('Trocando:', 'Ganhou' if simula(False) == 1 else 'Perdeu')\n",
    "print('Sem trocar:', 'Ganhou' if simula(True) == 1 else 'Perdeu')"
   ]
  },
  {
   "cell_type": "markdown",
   "metadata": {},
   "source": [
    "Simulando várias vezes:"
   ]
  },
  {
   "cell_type": "code",
   "execution_count": 61,
   "metadata": {},
   "outputs": [],
   "source": [
    "# Sem troca\n",
    "semTroca = [0]\n",
    "soma = 0\n",
    "size = 2500\n",
    "for i in range(1, size + 1):\n",
    "    soma += simula(False)\n",
    "    semTroca.append(soma / i)\n",
    "\n",
    "# Com troca\n",
    "soma = 0\n",
    "comTroca = [0]\n",
    "for i in range(1, size + 1):\n",
    "    soma += simula(True)\n",
    "    comTroca.append(soma / i)"
   ]
  },
  {
   "cell_type": "markdown",
   "metadata": {},
   "source": [
    "Plotando graficamente:\n",
    "\n",
    "Obs.: A linha vermelha demarca o valor 0.333"
   ]
  },
  {
   "cell_type": "code",
   "execution_count": 62,
   "metadata": {},
   "outputs": [
    {
     "data": {
      "image/png": "[encoded data removed]",
      "text/plain": [
       "<Figure size 432x288 with 1 Axes>"
      ]
     },
     "metadata": {},
     "output_type": "display_data"
    },
    {
     "data": {
      "image/png": "[encoded data removed]",
      "text/plain": [
       "<Figure size 432x288 with 1 Axes>"
      ]
     },
     "metadata": {},
     "output_type": "display_data"
    }
   ],
   "source": [
    "x = np.linspace(0, size, size)\n",
    "\n",
    "figure()\n",
    "plot(semTroca)\n",
    "plot(x, [1 / 3] * size, 'r.-', markersize=0.1)\n",
    "xlabel('x')\n",
    "ylabel('y')\n",
    "title('Sem Troca')\n",
    "show()\n",
    "\n",
    "figure()\n",
    "plot(comTroca)\n",
    "plot(x, [1 / 3] * size, 'r.-', markersize=0.1)\n",
    "xlabel('x')\n",
    "ylabel('y')\n",
    "title('Com Troca')\n",
    "show()\n"
   ]
  },
  {
   "cell_type": "code",
   "execution_count": null,
   "metadata": {},
   "outputs": [],
   "source": []
  }
 ],
 "metadata": {
  "kernelspec": {
   "display_name": "Python 3",
   "language": "python",
   "name": "python3"
  },
  "language_info": {
   "codemirror_mode": {
    "name": "ipython",
    "version": 3
   },
   "file_extension": ".py",
   "mimetype": "text/x-python",
   "name": "python",
   "nbconvert_exporter": "python",
   "pygments_lexer": "ipython3",
   "version": "3.6.5"
  }
 },
 "nbformat": 4,
 "nbformat_minor": 2
}
