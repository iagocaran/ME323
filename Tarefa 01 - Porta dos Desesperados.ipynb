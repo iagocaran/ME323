{
 "cells": [
  {
   "cell_type": "markdown",
   "metadata": {},
   "source": [
    "                    ATIVIDADE 1 - \"PORTA DOS DESESPERADOS\" - ME323, 1º SEMESTRE DE 2019\n",
    "                                UNIVERSIDADE ESTADUAL DE CAMPINAS - UNICAMP\n",
    "                                \n",
    "Alunos / RA :\n",
    "        -Iago Caran Aquino - 198921\n",
    "        -Tomás S. R. Silva - 187720\n",
    "\n",
    "Resumo:\n",
    "    O objetivo desse trabalho é fazer uma simulação do programa \"porta dos desesperados\". Nesse programa, tem-se inicialmente três portas iniciais, na qual duas estão vazias e uma contém um prêmio. Inicialmente, é pedido que o participante do programa escolha uma das três portas. Logo após, o apresentador do programa abre uma das portas remanescentes que não contém o prêmio. Em seguida, o apresentador pergunta ao participante se ele quer trocar de porta ou se ele deseja continuar com a escolha inicial.\n",
    "    Desse forma, sabemos que é mais vantajoso trocar de porta do que continuar com a porta inicial, numa probabilidade de vitória de 2/3 contra 1/3. O que queremos nesse trabalho é justamente fazer uma simulação desse programa para verificarmos tal vantagem."
   ]
  },
  {
   "cell_type": "code",
   "execution_count": 1,
   "metadata": {},
   "outputs": [
    {
     "name": "stdout",
     "output_type": "stream",
     "text": [
      "Portas: [1, 0, 0]\n",
      "Porta com prêmio: 0\n",
      "Porta escolhida: 2\n",
      "Porta descartada: 1\n",
      "Não trocou\n",
      "Perdeu\n"
     ]
    }
   ],
   "source": [
    "%matplotlib inline\n",
    "from pylab import *\n",
    "import numpy as np\n",
    "import random\n",
    "\n",
    "# Ao longo do programa seguimos algumas convenções:\n",
    "#  - 0 : nenhum prêmio\n",
    "#  - 1 : prêmio\n",
    "\n",
    "# Trocar de porta?\n",
    "troca = False\n",
    "\n",
    "# Colocar o prêmio atrás de uma porta\n",
    "doors = [0, 0, 0]\n",
    "prize = random.randint(0, 2)\n",
    "doors[prize] = 1\n",
    "\n",
    "print('Portas:', doors)\n",
    "print('Porta com prêmio:', prize)\n",
    "\n",
    "# Escolher uma porta\n",
    "chosen = random.randint(0, 2)\n",
    "discarded = None\n",
    "print('Porta escolhida:', chosen)\n",
    "\n",
    "# Abrir uma porta\n",
    "for i in range(0, 3):\n",
    "    if doors[i] == 0 and i != chosen:\n",
    "        discarded = i\n",
    "        break\n",
    "\n",
    "print('Porta descartada:', discarded)\n",
    "        \n",
    "# Trocar de porta\n",
    "if troca:\n",
    "    print('Trocou')\n",
    "    for i in range(0, 3):\n",
    "        if i not in [chosen, discarded]:\n",
    "            chosen = i\n",
    "            break\n",
    "else:\n",
    "    print('Não trocou')\n",
    "\n",
    "# Resultado\n",
    "print('Ganhou' if doors[chosen] == 1 else 'Perdeu')"
   ]
  },
  {
   "cell_type": "markdown",
   "metadata": {},
   "source": [
    "Transformando o processo de simulação em uma função, podemos repetir esse procedimento várias vezes e armazenar os resultados."
   ]
  },
  {
   "cell_type": "code",
   "execution_count": 3,
   "metadata": {},
   "outputs": [],
   "source": [
    "def simula(troca = False):\n",
    "    doors = [0, 0, 0]\n",
    "    doors[random.randint(0, 2)] = 1\n",
    "    chosen = random.randint(0, 2)\n",
    "    discarded = None\n",
    "\n",
    "    for i in range(0, 3):\n",
    "        if doors[i] == 0 and i != chosen:\n",
    "            discarded = i\n",
    "            break\n",
    "    if troca:\n",
    "        for i in range(0, 3):\n",
    "            if i not in [chosen, discarded]:\n",
    "                chosen = i\n",
    "                break\n",
    "    return doors[chosen] == 1"
   ]
  },
  {
   "cell_type": "markdown",
   "metadata": {},
   "source": [
    "Executando essa função, podemos fazer o teste para os casos em que o participante troca ou não de porta:"
   ]
  },
  {
   "cell_type": "code",
   "execution_count": 4,
   "metadata": {},
   "outputs": [
    {
     "name": "stdout",
     "output_type": "stream",
     "text": [
      "Trocando: Perdeu\n",
      "Sem trocar: Perdeu\n"
     ]
    }
   ],
   "source": [
    "print('Trocando:', 'Ganhou' if simula(False) == 1 else 'Perdeu')\n",
    "print('Sem trocar:', 'Ganhou' if simula(True) == 1 else 'Perdeu')"
   ]
  },
  {
   "cell_type": "markdown",
   "metadata": {},
   "source": [
    "Realizando o processo de simulação várias vezes:"
   ]
  },
  {
   "cell_type": "code",
   "execution_count": 5,
   "metadata": {},
   "outputs": [],
   "source": [
    "# Sem troca\n",
    "semTroca = [0]\n",
    "soma = 0\n",
    "size = 2500\n",
    "for i in range(1, size + 1):\n",
    "    soma += simula(False)\n",
    "    semTroca.append(soma / i)\n",
    "\n",
    "# Com troca\n",
    "soma = 0\n",
    "comTroca = [0]\n",
    "for i in range(1, size + 1):\n",
    "    soma += simula(True)\n",
    "    comTroca.append(soma / i)"
   ]
  },
  {
   "cell_type": "markdown",
   "metadata": {},
   "source": [
    "Após repetir a simulação por 2500 vezes, podemos colocar os resultados em gráficos, conforme segue abaixo:\n",
    "\n",
    "Obs.: A linha vermelha demarca o valor 0.333, a amarela 0.666"
   ]
  },
  {
   "cell_type": "code",
   "execution_count": 6,
   "metadata": {},
   "outputs": [
    {
     "data": {
      "image/png": "[encoded data removed]",
      "text/plain": [
       "<Figure size 432x288 with 1 Axes>"
      ]
     },
     "metadata": {},
     "output_type": "display_data"
    },
    {
     "data": {
      "image/png": "[encoded data removed]",
      "text/plain": [
       "<Figure size 432x288 with 1 Axes>"
      ]
     },
     "metadata": {},
     "output_type": "display_data"
    }
   ],
   "source": [
    "x = np.linspace(0, size, size)\n",
    "\n",
    "figure()\n",
    "plot(semTroca)\n",
    "plot(x, [1 / 3] * size, 'r.-', markersize=0.1)\n",
    "plot(x, [2 / 3] * size, 'y.-', markersize=0.1)\n",
    "xlabel('x')\n",
    "ylabel('y')\n",
    "title('Sem Troca')\n",
    "show()\n",
    "\n",
    "figure()\n",
    "plot(comTroca)\n",
    "plot(x, [1 / 3] * size, 'r.-', markersize=0.1)\n",
    "plot(x, [2 / 3] * size, 'y.-', markersize=0.1)\n",
    "xlabel('x')\n",
    "ylabel('y')\n",
    "title('Com Troca')\n",
    "show()\n"
   ]
  },
  {
   "cell_type": "markdown",
   "metadata": {},
   "source": [
    "Conclusão:\n",
    "    Após a repetição da simulação várias vezes, vemos que quanto maior o número de simulações realizadas, mais os casos de vitória com troca de porta se aproximam da reta 2/3, enquanto que os casos de vitória sem troca de porta se aproximam da reta 1/3, que era justamente a proporção esperada inicialmente e que agora pode ser observada com o auxílio dessa simulação da \"Lei dos Grandes Números\" para o problema da \"Porta dos Desesperados\"."
   ]
  }
 ],
 "metadata": {
  "kernelspec": {
   "display_name": "Python 3",
   "language": "python",
   "name": "python3"
  },
  "language_info": {
   "codemirror_mode": {
    "name": "ipython",
    "version": 3
   },
   "file_extension": ".py",
   "mimetype": "text/x-python",
   "name": "python",
   "nbconvert_exporter": "python",
   "pygments_lexer": "ipython3",
   "version": "3.6.7"
  }
 },
 "nbformat": 4,
 "nbformat_minor": 2
}
